{
 "cells": [
  {
   "cell_type": "code",
   "execution_count": 1,
   "metadata": {
    "ExecuteTime": {
     "end_time": "2021-06-30T07:15:56.002102Z",
     "start_time": "2021-06-30T07:15:55.998240Z"
    }
   },
   "outputs": [],
   "source": [
    "from midi2audio import FluidSynth"
   ]
  },
  {
   "cell_type": "code",
   "execution_count": 2,
   "metadata": {
    "ExecuteTime": {
     "end_time": "2021-06-30T07:16:33.812821Z",
     "start_time": "2021-06-30T07:16:27.744896Z"
    }
   },
   "outputs": [],
   "source": [
    "FluidSynth().play_midi('../../MusicData/POP909-Dataset/POP909/004/004.mid')"
   ]
  },
  {
   "cell_type": "code",
   "execution_count": 3,
   "metadata": {
    "ExecuteTime": {
     "end_time": "2021-06-30T07:17:22.024396Z",
     "start_time": "2021-06-30T07:17:20.668749Z"
    }
   },
   "outputs": [],
   "source": [
    "fs = FluidSynth()\n",
    "fs.midi_to_audio('../../MusicData/POP909-Dataset/POP909/004/004.mid', 'output.wav')"
   ]
  },
  {
   "cell_type": "code",
   "execution_count": 4,
   "metadata": {
    "ExecuteTime": {
     "end_time": "2021-06-30T07:24:59.710600Z",
     "start_time": "2021-06-30T07:24:59.703058Z"
    }
   },
   "outputs": [
    {
     "name": "stderr",
     "output_type": "stream",
     "text": [
      "UsageError: Line magic function `%timidity` not found.\n"
     ]
    }
   ],
   "source": [
    "timidity ../../MusicData/POP909-Dataset/POP909/004/004.mid -Ow -o - | ffmpeg -i - -acodec libmp3lame -ab 64k output_file.mp3"
   ]
  },
  {
   "cell_type": "code",
   "execution_count": null,
   "metadata": {},
   "outputs": [],
   "source": []
  },
  {
   "cell_type": "code",
   "execution_count": null,
   "metadata": {},
   "outputs": [],
   "source": []
  }
 ],
 "metadata": {
  "kernelspec": {
   "display_name": "Python 3",
   "language": "python",
   "name": "python3"
  },
  "language_info": {
   "codemirror_mode": {
    "name": "ipython",
    "version": 3
   },
   "file_extension": ".py",
   "mimetype": "text/x-python",
   "name": "python",
   "nbconvert_exporter": "python",
   "pygments_lexer": "ipython3",
   "version": "3.6.10"
  },
  "toc": {
   "base_numbering": 1,
   "nav_menu": {},
   "number_sections": true,
   "sideBar": true,
   "skip_h1_title": false,
   "title_cell": "Table of Contents",
   "title_sidebar": "Contents",
   "toc_cell": false,
   "toc_position": {},
   "toc_section_display": true,
   "toc_window_display": false
  }
 },
 "nbformat": 4,
 "nbformat_minor": 4
}
